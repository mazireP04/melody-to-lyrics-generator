{
  "cells": [
    {
      "cell_type": "code",
      "source": [],
      "metadata": {
        "id": "8daBcV67tu9Z"
      },
      "execution_count": null,
      "outputs": []
    },
    {
      "cell_type": "markdown",
      "source": [
        "MVP:\n",
        "\n",
        "\n",
        "\n",
        "\n",
        "1.   understand the audio\n",
        "2.   input theme, genre, mood\n",
        "3.   generate lyrics THAT FIT!\n",
        "\n",
        "\n",
        "steps:\n",
        "1. get audio files 2-3 music melodies\n",
        "2. decide llm tools or api\n",
        "\n",
        "\n"
      ],
      "metadata": {
        "id": "SEf8CcoGvmZI"
      }
    }
  ],
  "metadata": {
    "language_info": {
      "name": "python"
    },
    "colab": {
      "provenance": []
    }
  },
  "nbformat": 4,
  "nbformat_minor": 0
}